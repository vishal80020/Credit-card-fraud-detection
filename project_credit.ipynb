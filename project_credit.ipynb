{
 "cells": [
  {
   "cell_type": "markdown",
   "metadata": {},
   "source": [
    "# Importing All Libraries"
   ]
  },
  {
   "cell_type": "code",
   "execution_count": 1,
   "metadata": {},
   "outputs": [],
   "source": [
    "import sys\n",
    "import numpy as np\n",
    "import pandas as pd\n",
    "import matplotlib.pyplot as plt\n",
    "import seaborn as sns\n",
    "import scipy\n",
    "from sklearn import metrics\n",
    "%matplotlib inline\n"
   ]
  },
  {
   "cell_type": "markdown",
   "metadata": {},
   "source": [
    "# Loading Data"
   ]
  },
  {
   "cell_type": "code",
   "execution_count": 2,
   "metadata": {},
   "outputs": [],
   "source": [
    "fullfileName='C:/Users/vishal sharma/Desktop/creditcardcsvpresent.csv'\n",
    "df=pd.read_csv(fullfileName)"
   ]
  },
  {
   "cell_type": "code",
   "execution_count": 3,
   "metadata": {},
   "outputs": [
    {
     "name": "stdout",
     "output_type": "stream",
     "text": [
      "Index(['Merchant_id', 'Average Amount/transaction/day', 'Transaction_amount',\n",
      "       'Is declined', 'Total Number of declines/day', 'isForeignTransaction',\n",
      "       'isHighRiskCountry', 'Daily_chargeback_avg_amt', '6_month_avg_chbk_amt',\n",
      "       '6-month_chbk_freq', 'isFradulent'],\n",
      "      dtype='object')\n"
     ]
    }
   ],
   "source": [
    "print(df.columns)"
   ]
  },
  {
   "cell_type": "code",
   "execution_count": 4,
   "metadata": {},
   "outputs": [
    {
     "name": "stdout",
     "output_type": "stream",
     "text": [
      "(3075, 11)\n"
     ]
    }
   ],
   "source": [
    "print(df.shape)"
   ]
  },
  {
   "cell_type": "code",
   "execution_count": 5,
   "metadata": {},
   "outputs": [
    {
     "name": "stdout",
     "output_type": "stream",
     "text": [
      "        Merchant_id  Average Amount/transaction/day  Transaction_amount  \\\n",
      "count  3.075000e+03                     3075.000000         3075.000000   \n",
      "mean   5.026634e+09                      515.026556         9876.399210   \n",
      "std    9.870778e+08                      291.906978        10135.331016   \n",
      "min    3.160041e+09                        4.011527            0.000000   \n",
      "25%    4.170814e+09                      269.788047         2408.781147   \n",
      "50%    5.025578e+09                      502.549575         6698.891856   \n",
      "75%    5.889625e+09                      765.272803        14422.568935   \n",
      "max    6.665906e+09                     2000.000000       108000.000000   \n",
      "\n",
      "       Total Number of declines/day  Daily_chargeback_avg_amt  \\\n",
      "count                   3075.000000               3075.000000   \n",
      "mean                       0.957398                 55.737561   \n",
      "std                        2.192391                206.634779   \n",
      "min                        0.000000                  0.000000   \n",
      "25%                        0.000000                  0.000000   \n",
      "50%                        0.000000                  0.000000   \n",
      "75%                        0.000000                  0.000000   \n",
      "max                       20.000000                998.000000   \n",
      "\n",
      "       6_month_avg_chbk_amt  6-month_chbk_freq  \n",
      "count           3075.000000        3075.000000  \n",
      "mean              40.022407           0.391870  \n",
      "std              155.968840           1.548479  \n",
      "min                0.000000           0.000000  \n",
      "25%                0.000000           0.000000  \n",
      "50%                0.000000           0.000000  \n",
      "75%                0.000000           0.000000  \n",
      "max              998.000000           9.000000  \n"
     ]
    }
   ],
   "source": [
    "print(df.describe())"
   ]
  },
  {
   "cell_type": "code",
   "execution_count": 6,
   "metadata": {},
   "outputs": [
    {
     "name": "stdout",
     "output_type": "stream",
     "text": [
      "   Merchant_id  Average Amount/transaction/day  Transaction_amount  \\\n",
      "0   3160040998                           100.0              3000.0   \n",
      "1   3160040998                           100.0              4300.0   \n",
      "2   3160041896                           185.5              4823.0   \n",
      "3   3160141996                           185.5              5008.5   \n",
      "4   3160241992                           500.0             26000.0   \n",
      "\n",
      "  Is declined  Total Number of declines/day isForeignTransaction  \\\n",
      "0           N                             5                    Y   \n",
      "1           N                             5                    Y   \n",
      "2           Y                             5                    N   \n",
      "3           Y                             8                    N   \n",
      "4           N                             0                    Y   \n",
      "\n",
      "  isHighRiskCountry  Daily_chargeback_avg_amt  6_month_avg_chbk_amt  \\\n",
      "0                 Y                         0                   0.0   \n",
      "1                 Y                         0                   0.0   \n",
      "2                 N                         0                   0.0   \n",
      "3                 N                         0                   0.0   \n",
      "4                 Y                       800                 677.2   \n",
      "\n",
      "   6-month_chbk_freq isFradulent  \n",
      "0                  0           Y  \n",
      "1                  0           Y  \n",
      "2                  0           Y  \n",
      "3                  0           Y  \n",
      "4                  6           Y  \n"
     ]
    }
   ],
   "source": [
    "print(df.head())\n"
   ]
  },
  {
   "cell_type": "markdown",
   "metadata": {},
   "source": [
    "# Analysing Data"
   ]
  },
  {
   "cell_type": "code",
   "execution_count": 7,
   "metadata": {},
   "outputs": [
    {
     "data": {
      "text/plain": [
       "<matplotlib.axes._subplots.AxesSubplot at 0x21f6117f860>"
      ]
     },
     "execution_count": 7,
     "metadata": {},
     "output_type": "execute_result"
    },
    {
     "data": {
      "image/png": "[encoded data removed]",
      "text/plain": [
       "<Figure size 432x288 with 1 Axes>"
      ]
     },
     "metadata": {
      "needs_background": "light"
     },
     "output_type": "display_data"
    }
   ],
   "source": [
    "sns.countplot(x=\"isFradulent\",data=df)"
   ]
  },
  {
   "cell_type": "code",
   "execution_count": 8,
   "metadata": {},
   "outputs": [
    {
     "data": {
      "text/plain": [
       "<matplotlib.axes._subplots.AxesSubplot at 0x21f60dfc4e0>"
      ]
     },
     "execution_count": 8,
     "metadata": {},
     "output_type": "execute_result"
    },
    {
     "data": {
      "image/png": "[encoded data removed]",
      "text/plain": [
       "<Figure size 432x288 with 1 Axes>"
      ]
     },
     "metadata": {
      "needs_background": "light"
     },
     "output_type": "display_data"
    }
   ],
   "source": [
    "sns.countplot(x=\"isFradulent\",hue=\"isHighRiskCountry\",data=df)"
   ]
  },
  {
   "cell_type": "code",
   "execution_count": 9,
   "metadata": {},
   "outputs": [
    {
     "data": {
      "text/plain": [
       "<matplotlib.axes._subplots.AxesSubplot at 0x21f60e7a320>"
      ]
     },
     "execution_count": 9,
     "metadata": {},
     "output_type": "execute_result"
    },
    {
     "data": {
      "image/png": "[encoded data removed]",
      "text/plain": [
       "<Figure size 432x288 with 1 Axes>"
      ]
     },
     "metadata": {
      "needs_background": "light"
     },
     "output_type": "display_data"
    }
   ],
   "source": [
    "sns.countplot(x=\"isFradulent\",hue=\"isForeignTransaction\",data=df)"
   ]
  },
  {
   "cell_type": "code",
   "execution_count": 10,
   "metadata": {},
   "outputs": [
    {
     "data": {
      "text/plain": [
       "<matplotlib.axes._subplots.AxesSubplot at 0x21f60ecb7b8>"
      ]
     },
     "execution_count": 10,
     "metadata": {},
     "output_type": "execute_result"
    },
    {
     "data": {
      "image/png": "[encoded data removed]",
      "text/plain": [
       "<Figure size 432x288 with 2 Axes>"
      ]
     },
     "metadata": {
      "needs_background": "light"
     },
     "output_type": "display_data"
    }
   ],
   "source": [
    "sns.heatmap(df.isnull(), yticklabels=False,cmap='viridis')"
   ]
  },
  {
   "cell_type": "code",
   "execution_count": 11,
   "metadata": {},
   "outputs": [
    {
     "data": {
      "text/plain": [
       "<matplotlib.axes._subplots.AxesSubplot at 0x21f60f71748>"
      ]
     },
     "execution_count": 11,
     "metadata": {},
     "output_type": "execute_result"
    },
    {
     "data": {
      "image/png": "[encoded data removed]",
      "text/plain": [
       "<Figure size 720x360 with 1 Axes>"
      ]
     },
     "metadata": {
      "needs_background": "light"
     },
     "output_type": "display_data"
    }
   ],
   "source": [
    "df[\"Average Amount/transaction/day\"].plot.hist(bins=20, figsize=(10,5))"
   ]
  },
  {
   "cell_type": "code",
   "execution_count": 12,
   "metadata": {},
   "outputs": [
    {
     "data": {
      "text/html": [
       "<div>\n",
       "<style scoped>\n",
       "    .dataframe tbody tr th:only-of-type {\n",
       "        vertical-align: middle;\n",
       "    }\n",
       "\n",
       "    .dataframe tbody tr th {\n",
       "        vertical-align: top;\n",
       "    }\n",
       "\n",
       "    .dataframe thead th {\n",
       "        text-align: right;\n",
       "    }\n",
       "</style>\n",
       "<table border=\"1\" class=\"dataframe\">\n",
       "  <thead>\n",
       "    <tr style=\"text-align: right;\">\n",
       "      <th></th>\n",
       "      <th>Merchant_id</th>\n",
       "      <th>Average Amount/transaction/day</th>\n",
       "      <th>Transaction_amount</th>\n",
       "      <th>Is declined</th>\n",
       "      <th>Total Number of declines/day</th>\n",
       "      <th>isForeignTransaction</th>\n",
       "      <th>isHighRiskCountry</th>\n",
       "      <th>Daily_chargeback_avg_amt</th>\n",
       "      <th>6_month_avg_chbk_amt</th>\n",
       "      <th>6-month_chbk_freq</th>\n",
       "      <th>isFradulent</th>\n",
       "    </tr>\n",
       "  </thead>\n",
       "  <tbody>\n",
       "    <tr>\n",
       "      <th>0</th>\n",
       "      <td>3160040998</td>\n",
       "      <td>100.0</td>\n",
       "      <td>3000.0</td>\n",
       "      <td>0</td>\n",
       "      <td>5</td>\n",
       "      <td>1</td>\n",
       "      <td>1</td>\n",
       "      <td>0</td>\n",
       "      <td>0.0</td>\n",
       "      <td>0</td>\n",
       "      <td>1</td>\n",
       "    </tr>\n",
       "    <tr>\n",
       "      <th>1</th>\n",
       "      <td>3160040998</td>\n",
       "      <td>100.0</td>\n",
       "      <td>4300.0</td>\n",
       "      <td>0</td>\n",
       "      <td>5</td>\n",
       "      <td>1</td>\n",
       "      <td>1</td>\n",
       "      <td>0</td>\n",
       "      <td>0.0</td>\n",
       "      <td>0</td>\n",
       "      <td>1</td>\n",
       "    </tr>\n",
       "    <tr>\n",
       "      <th>2</th>\n",
       "      <td>3160041896</td>\n",
       "      <td>185.5</td>\n",
       "      <td>4823.0</td>\n",
       "      <td>1</td>\n",
       "      <td>5</td>\n",
       "      <td>0</td>\n",
       "      <td>0</td>\n",
       "      <td>0</td>\n",
       "      <td>0.0</td>\n",
       "      <td>0</td>\n",
       "      <td>1</td>\n",
       "    </tr>\n",
       "    <tr>\n",
       "      <th>3</th>\n",
       "      <td>3160141996</td>\n",
       "      <td>185.5</td>\n",
       "      <td>5008.5</td>\n",
       "      <td>1</td>\n",
       "      <td>8</td>\n",
       "      <td>0</td>\n",
       "      <td>0</td>\n",
       "      <td>0</td>\n",
       "      <td>0.0</td>\n",
       "      <td>0</td>\n",
       "      <td>1</td>\n",
       "    </tr>\n",
       "    <tr>\n",
       "      <th>4</th>\n",
       "      <td>3160241992</td>\n",
       "      <td>500.0</td>\n",
       "      <td>26000.0</td>\n",
       "      <td>0</td>\n",
       "      <td>0</td>\n",
       "      <td>1</td>\n",
       "      <td>1</td>\n",
       "      <td>800</td>\n",
       "      <td>677.2</td>\n",
       "      <td>6</td>\n",
       "      <td>1</td>\n",
       "    </tr>\n",
       "  </tbody>\n",
       "</table>\n",
       "</div>"
      ],
      "text/plain": [
       "   Merchant_id  Average Amount/transaction/day  Transaction_amount  \\\n",
       "0   3160040998                           100.0              3000.0   \n",
       "1   3160040998                           100.0              4300.0   \n",
       "2   3160041896                           185.5              4823.0   \n",
       "3   3160141996                           185.5              5008.5   \n",
       "4   3160241992                           500.0             26000.0   \n",
       "\n",
       "   Is declined  Total Number of declines/day  isForeignTransaction  \\\n",
       "0            0                             5                     1   \n",
       "1            0                             5                     1   \n",
       "2            1                             5                     0   \n",
       "3            1                             8                     0   \n",
       "4            0                             0                     1   \n",
       "\n",
       "   isHighRiskCountry  Daily_chargeback_avg_amt  6_month_avg_chbk_amt  \\\n",
       "0                  1                         0                   0.0   \n",
       "1                  1                         0                   0.0   \n",
       "2                  0                         0                   0.0   \n",
       "3                  0                         0                   0.0   \n",
       "4                  1                       800                 677.2   \n",
       "\n",
       "   6-month_chbk_freq  isFradulent  \n",
       "0                  0            1  \n",
       "1                  0            1  \n",
       "2                  0            1  \n",
       "3                  0            1  \n",
       "4                  6            1  "
      ]
     },
     "execution_count": 12,
     "metadata": {},
     "output_type": "execute_result"
    }
   ],
   "source": [
    "df.loc[df['isFradulent']=='Y', 'isFradulent'] = 1\n",
    "df.loc[df['isFradulent']=='N', 'isFradulent'] = 0\n",
    "df.loc[df['Is declined']=='N', 'Is declined'] = 0\n",
    "df.loc[df['Is declined']=='Y', 'Is declined'] = 1\n",
    "df.loc[df['isHighRiskCountry']=='N', 'isHighRiskCountry'] = 0\n",
    "df.loc[df['isHighRiskCountry']=='Y', 'isHighRiskCountry'] = 1\n",
    "df.loc[df['isForeignTransaction']=='N', 'isForeignTransaction'] = 0\n",
    "df.loc[df['isForeignTransaction']=='Y', 'isForeignTransaction'] = 1\n",
    "\n",
    "\n",
    "\n",
    "\n",
    "df.head()\n"
   ]
  },
  {
   "cell_type": "code",
   "execution_count": 13,
   "metadata": {},
   "outputs": [
    {
     "name": "stdout",
     "output_type": "stream",
     "text": [
      "     Merchant_id  Average Amount/transaction/day  Transaction_amount  \\\n",
      "0     3160040998                      100.000000         3000.000000   \n",
      "1     3160040998                      100.000000         4300.000000   \n",
      "2     3160041896                      185.500000         4823.000000   \n",
      "3     3160141996                      185.500000         5008.500000   \n",
      "4     3160241992                      500.000000        26000.000000   \n",
      "5     3160241992                      500.000000        27000.000000   \n",
      "6     3160272997                      262.500000        11287.500000   \n",
      "7     3162041996                      185.500000        11130.000000   \n",
      "8     3162041996                      185.500000         6121.500000   \n",
      "9     3162041996                      185.500000         7049.000000   \n",
      "10    3356298138                      166.788473         4836.865717   \n",
      "11    3359162473                      444.997014        21804.853710   \n",
      "12    3359690891                      152.451565         4116.192255   \n",
      "13    3364840542                       36.919488         2141.330283   \n",
      "14    3365355395                      806.179543        23379.206740   \n",
      "15    3369900897                      257.091167        10283.646670   \n",
      "16    3376306597                      601.452971        24659.571800   \n",
      "17    3386662126                      222.529815        12461.669650   \n",
      "18    3388251889                      231.067318        12708.702480   \n",
      "19    3394638119                      675.569475        39858.599050   \n",
      "20    3402333645                      242.151743        10654.676690   \n",
      "21    3405816400                      804.761766        42652.373600   \n",
      "22    3408183027                      432.030252        22033.542840   \n",
      "23    3413226850                      356.812263        16056.551840   \n",
      "24    3418090677                      456.283118        15057.342890   \n",
      "25    3450127241                      780.688498        36692.359410   \n",
      "26    3462219091                      947.489028        44531.984300   \n",
      "27    3465787492                      172.515767         5002.957249   \n",
      "28    3483626412                      111.375071         5680.128626   \n",
      "29    3498029973                      679.940335        38076.658740   \n",
      "..           ...                             ...                 ...   \n",
      "418   6661273532                      800.000000        24800.000000   \n",
      "419   6661273532                      400.000000        10400.000000   \n",
      "420   6661273532                      200.000000        10400.000000   \n",
      "421   6661273533                      800.000000        35200.000000   \n",
      "422   6661273533                      400.000000        14000.000000   \n",
      "423   6661273533                      200.000000         7800.000000   \n",
      "424   6661273534                      800.000000        31200.000000   \n",
      "425   6661273534                      700.000000        25900.000000   \n",
      "426   6661273534                      800.000000        40800.000000   \n",
      "427   6661273534                      800.000000        40000.000000   \n",
      "428   6661273534                      400.000000        12800.000000   \n",
      "429   6661273534                      200.000000        11600.000000   \n",
      "430   6661273531                     1200.000000        54000.000000   \n",
      "431   6661273531                      600.000000        17400.000000   \n",
      "432   6661273531                      300.000000        15000.000000   \n",
      "433   6661273531                      500.000000        26500.000000   \n",
      "434   6661273531                      500.000000        22000.000000   \n",
      "435   6661273531                      500.000000        14000.000000   \n",
      "436   6661273532                     1000.000000        29000.000000   \n",
      "437   6661273532                     1000.000000        43000.000000   \n",
      "438   6661273532                      500.000000        25500.000000   \n",
      "439   6661273532                      500.000000        18000.000000   \n",
      "440   6661273532                      500.000000        16500.000000   \n",
      "441   6661273533                     1000.000000        35000.000000   \n",
      "442   6661273533                     1000.000000        49000.000000   \n",
      "443   6661273533                      500.000000        20500.000000   \n",
      "444   6661273533                      500.000000        13500.000000   \n",
      "445   6661273533                      500.000000        22500.000000   \n",
      "446   6661273533                      100.000000         3100.000000   \n",
      "447   6661273533                      100.000000         5300.000000   \n",
      "\n",
      "     Is declined  Total Number of declines/day  isForeignTransaction  \\\n",
      "0              0                             5                     1   \n",
      "1              0                             5                     1   \n",
      "2              1                             5                     0   \n",
      "3              1                             8                     0   \n",
      "4              0                             0                     1   \n",
      "5              0                             0                     1   \n",
      "6              0                             0                     0   \n",
      "7              1                            20                     0   \n",
      "8              1                            20                     0   \n",
      "9              1                            20                     0   \n",
      "10             0                             0                     0   \n",
      "11             0                             0                     1   \n",
      "12             0                             0                     1   \n",
      "13             0                             5                     1   \n",
      "14             0                             0                     0   \n",
      "15             0                             4                     1   \n",
      "16             0                             7                     0   \n",
      "17             0                             9                     1   \n",
      "18             0                             0                     0   \n",
      "19             0                             9                     1   \n",
      "20             0                             0                     1   \n",
      "21             0                             0                     0   \n",
      "22             0                             8                     1   \n",
      "23             0                             9                     1   \n",
      "24             0                             0                     1   \n",
      "25             0                             0                     1   \n",
      "26             0                             7                     1   \n",
      "27             0                             9                     1   \n",
      "28             0                             2                     1   \n",
      "29             0                             0                     1   \n",
      "..           ...                           ...                   ...   \n",
      "418            1                             1                     0   \n",
      "419            1                             2                     0   \n",
      "420            0                             3                     0   \n",
      "421            1                             1                     0   \n",
      "422            1                             2                     0   \n",
      "423            0                             3                     0   \n",
      "424            1                             0                     1   \n",
      "425            1                             1                     1   \n",
      "426            1                             0                     1   \n",
      "427            1                             1                     1   \n",
      "428            1                             2                     1   \n",
      "429            0                             3                     1   \n",
      "430            1                             0                     1   \n",
      "431            1                             1                     1   \n",
      "432            1                             2                     1   \n",
      "433            1                             4                     0   \n",
      "434            1                             5                     0   \n",
      "435            1                             6                     0   \n",
      "436            1                             1                     1   \n",
      "437            1                             2                     1   \n",
      "438            1                             3                     0   \n",
      "439            1                             4                     0   \n",
      "440            1                             5                     0   \n",
      "441            1                             1                     1   \n",
      "442            1                             2                     1   \n",
      "443            1                             0                     0   \n",
      "444            1                             1                     0   \n",
      "445            1                             2                     0   \n",
      "446            1                             2                     0   \n",
      "447            1                             2                     0   \n",
      "\n",
      "     isHighRiskCountry  Daily_chargeback_avg_amt  6_month_avg_chbk_amt  \\\n",
      "0                    1                         0                   0.0   \n",
      "1                    1                         0                   0.0   \n",
      "2                    0                         0                   0.0   \n",
      "3                    0                         0                   0.0   \n",
      "4                    1                       800                 677.2   \n",
      "5                    1                       800                 677.2   \n",
      "6                    0                       900                 345.5   \n",
      "7                    0                         0                   0.0   \n",
      "8                    0                         0                   0.0   \n",
      "9                    0                         0                   0.0   \n",
      "10                   0                       721                 229.0   \n",
      "11                   1                         0                   0.0   \n",
      "12                   1                       865                 375.0   \n",
      "13                   1                         0                   0.0   \n",
      "14                   0                       816                 811.0   \n",
      "15                   0                         0                   0.0   \n",
      "16                   0                         0                   0.0   \n",
      "17                   0                         0                   0.0   \n",
      "18                   0                       986                 650.0   \n",
      "19                   0                         0                   0.0   \n",
      "20                   1                         0                   0.0   \n",
      "21                   0                       953                 950.0   \n",
      "22                   1                         0                   0.0   \n",
      "23                   1                         0                   0.0   \n",
      "24                   1                         0                   0.0   \n",
      "25                   0                       896                 839.0   \n",
      "26                   0                         0                   0.0   \n",
      "27                   1                         0                   0.0   \n",
      "28                   0                         0                   0.0   \n",
      "29                   1                         0                   0.0   \n",
      "..                 ...                       ...                   ...   \n",
      "418                  0                       754                 585.0   \n",
      "419                  0                       754                 585.0   \n",
      "420                  0                       754                 585.0   \n",
      "421                  0                       754                 585.0   \n",
      "422                  0                       754                 585.0   \n",
      "423                  0                       754                 585.0   \n",
      "424                  1                       754                 585.0   \n",
      "425                  1                       754                 585.0   \n",
      "426                  1                       754                 585.0   \n",
      "427                  1                       754                 585.0   \n",
      "428                  1                       754                 585.0   \n",
      "429                  1                       754                 585.0   \n",
      "430                  1                       754                 585.0   \n",
      "431                  1                       754                 585.0   \n",
      "432                  1                       754                 585.0   \n",
      "433                  0                       754                 585.0   \n",
      "434                  0                       754                 585.0   \n",
      "435                  0                       754                 585.0   \n",
      "436                  1                       754                 585.0   \n",
      "437                  1                       754                 585.0   \n",
      "438                  0                       754                 585.0   \n",
      "439                  0                       754                 585.0   \n",
      "440                  0                       754                 585.0   \n",
      "441                  1                       754                 585.0   \n",
      "442                  1                       754                 585.0   \n",
      "443                  0                       754                 585.0   \n",
      "444                  0                       754                 585.0   \n",
      "445                  0                       754                 585.0   \n",
      "446                  0                       754                 585.0   \n",
      "447                  0                       754                 585.0   \n",
      "\n",
      "     6-month_chbk_freq  isFradulent  \n",
      "0                    0            1  \n",
      "1                    0            1  \n",
      "2                    0            1  \n",
      "3                    0            1  \n",
      "4                    6            1  \n",
      "5                    6            1  \n",
      "6                    7            1  \n",
      "7                    0            1  \n",
      "8                    0            1  \n",
      "9                    0            1  \n",
      "10                   9            1  \n",
      "11                   0            1  \n",
      "12                   8            1  \n",
      "13                   0            1  \n",
      "14                   5            1  \n",
      "15                   0            1  \n",
      "16                   0            1  \n",
      "17                   0            1  \n",
      "18                   8            1  \n",
      "19                   0            1  \n",
      "20                   0            1  \n",
      "21                   8            1  \n",
      "22                   0            1  \n",
      "23                   0            1  \n",
      "24                   0            1  \n",
      "25                   6            1  \n",
      "26                   0            1  \n",
      "27                   0            1  \n",
      "28                   0            1  \n",
      "29                   0            1  \n",
      "..                 ...          ...  \n",
      "418                  7            1  \n",
      "419                  7            1  \n",
      "420                  7            1  \n",
      "421                  7            1  \n",
      "422                  7            1  \n",
      "423                  7            1  \n",
      "424                  7            1  \n",
      "425                  7            1  \n",
      "426                  7            1  \n",
      "427                  7            1  \n",
      "428                  7            1  \n",
      "429                  7            1  \n",
      "430                  7            1  \n",
      "431                  7            1  \n",
      "432                  7            1  \n",
      "433                  7            1  \n",
      "434                  7            1  \n",
      "435                  7            1  \n",
      "436                  7            1  \n",
      "437                  7            1  \n",
      "438                  7            1  \n",
      "439                  7            1  \n",
      "440                  7            1  \n",
      "441                  7            1  \n",
      "442                  7            1  \n",
      "443                  7            1  \n",
      "444                  7            1  \n",
      "445                  7            1  \n",
      "446                  7            1  \n",
      "447                  7            1  \n",
      "\n",
      "[448 rows x 11 columns]       Merchant_id  Average Amount/transaction/day  Transaction_amount  \\\n",
      "448    3160041996                      185.500000         5008.500000   \n",
      "449    3160041996                      185.500000          742.000000   \n",
      "450    3160041996                      185.500000         2411.500000   \n",
      "451    3200016990                      262.500000         3412.500000   \n",
      "452    3200016990                      375.000000        10875.000000   \n",
      "453    3200016990                      375.000000         4125.000000   \n",
      "454    3333780991                      375.000000         4125.000000   \n",
      "455    3335028024                      795.325842        17497.168520   \n",
      "456    3335329456                      574.895353         7473.639588   \n",
      "457    3337530841                      697.194782          697.194782   \n",
      "458    3338290326                      660.905646        13879.018560   \n",
      "459    3341313096                      139.507939         1255.571455   \n",
      "460    3341718873                      908.669280         1817.338560   \n",
      "461    3342028911                      182.892702         3292.068640   \n",
      "462    3343183606                      748.945658        18723.641440   \n",
      "463    3343565842                      925.692096        24067.994510   \n",
      "464    3347141750                      784.758304         2354.274913   \n",
      "465    3349106106                      571.218401        11424.368020   \n",
      "466    3349221228                      537.239619          537.239619   \n",
      "467    3351178102                      801.485981          801.485981   \n",
      "468    3351313375                      793.209876         6345.679007   \n",
      "469    3352166255                      388.413961         5437.795450   \n",
      "470    3352708526                      702.014427         6318.129841   \n",
      "471    3356830106                      477.588027         6686.232379   \n",
      "472    3358331170                      977.814714        15645.035430   \n",
      "473    3359485487                      604.464426        14507.146230   \n",
      "474    3359515389                      738.873563        15516.344830   \n",
      "475    3361344544                      176.994328         4424.858205   \n",
      "476    3362934997                      772.599785        16997.195270   \n",
      "477    3363782481                      817.703758        16354.075150   \n",
      "...           ...                             ...                 ...   \n",
      "3045   6638540153                        6.309560          164.048571   \n",
      "3046   6639733742                      551.285355         8820.565682   \n",
      "3047   6641494778                      440.569561         3965.126046   \n",
      "3048   6642146926                      131.786344          131.786344   \n",
      "3049   6643562617                      259.952617         2859.478791   \n",
      "3050   6644492798                      240.483553         6012.088823   \n",
      "3051   6651112346                      421.616281        11805.255870   \n",
      "3052   6651786312                       30.953851          650.030871   \n",
      "3053   6652925666                      780.236504        18725.676100   \n",
      "3054   6653334419                      923.196440        15694.339490   \n",
      "3055   6654600186                      281.093226         5621.864512   \n",
      "3056   6654612638                      165.745913          662.983653   \n",
      "3057   6654851998                       60.962762         1097.329714   \n",
      "3058   6654871637                      894.548030            0.000000   \n",
      "3059   6658165981                      935.956100        15911.253710   \n",
      "3060   6659324296                      980.690290         3922.761161   \n",
      "3061   6659424566                      256.703344          513.406688   \n",
      "3062   6660066018                      213.368914         4907.485029   \n",
      "3063   6660093468                      969.675448         6787.728135   \n",
      "3064   6661610317                      253.618866         4057.901859   \n",
      "3065   6662015632                      240.456831         2164.111484   \n",
      "3066   6664866404                      277.746824         7499.164245   \n",
      "3067   6665254221                      147.710676         2067.949461   \n",
      "3068   6665906072                      695.391196         1390.782391   \n",
      "3069   6661273529                     1000.000000        25000.000000   \n",
      "3070   6661273532                      500.000000        11000.000000   \n",
      "3071   6661273532                      800.000000            0.000000   \n",
      "3072   6661273533                      800.000000        20800.000000   \n",
      "3073   6661273532                     1500.000000        12000.000000   \n",
      "3074   6661273533                     1500.000000        36000.000000   \n",
      "\n",
      "      Is declined  Total Number of declines/day  isForeignTransaction  \\\n",
      "448             1                             0                     0   \n",
      "449             1                             1                     0   \n",
      "450             1                             2                     0   \n",
      "451             0                             0                     0   \n",
      "452             0                             0                     0   \n",
      "453             0                             0                     0   \n",
      "454             0                             0                     0   \n",
      "455             0                             0                     0   \n",
      "456             0                             0                     0   \n",
      "457             0                             0                     1   \n",
      "458             0                             6                     0   \n",
      "459             0                             0                     0   \n",
      "460             0                             0                     0   \n",
      "461             0                             0                     1   \n",
      "462             0                             0                     0   \n",
      "463             0                             0                     0   \n",
      "464             0                             0                     0   \n",
      "465             0                             0                     1   \n",
      "466             0                             1                     0   \n",
      "467             0                             0                     0   \n",
      "468             0                             0                     0   \n",
      "469             0                             0                     0   \n",
      "470             0                             0                     0   \n",
      "471             0                             4                     1   \n",
      "472             0                             0                     0   \n",
      "473             0                             0                     1   \n",
      "474             0                             0                     1   \n",
      "475             0                             0                     1   \n",
      "476             0                             0                     0   \n",
      "477             0                             0                     0   \n",
      "...           ...                           ...                   ...   \n",
      "3045            0                             0                     1   \n",
      "3046            0                             2                     0   \n",
      "3047            0                             0                     0   \n",
      "3048            0                             0                     0   \n",
      "3049            0                             0                     1   \n",
      "3050            0                             0                     0   \n",
      "3051            0                             0                     0   \n",
      "3052            0                             0                     1   \n",
      "3053            0                             5                     0   \n",
      "3054            0                             0                     0   \n",
      "3055            0                             0                     0   \n",
      "3056            0                             0                     0   \n",
      "3057            0                             0                     0   \n",
      "3058            0                             1                     0   \n",
      "3059            0                             0                     0   \n",
      "3060            0                             0                     0   \n",
      "3061            0                             0                     0   \n",
      "3062            0                             0                     1   \n",
      "3063            0                             0                     0   \n",
      "3064            0                             0                     1   \n",
      "3065            0                             0                     0   \n",
      "3066            0                             2                     0   \n",
      "3067            0                             0                     0   \n",
      "3068            0                             0                     0   \n",
      "3069            1                             0                     1   \n",
      "3070            1                             0                     0   \n",
      "3071            1                             0                     0   \n",
      "3072            1                             0                     0   \n",
      "3073            1                             0                     1   \n",
      "3074            1                             0                     1   \n",
      "\n",
      "      isHighRiskCountry  Daily_chargeback_avg_amt  6_month_avg_chbk_amt  \\\n",
      "448                   0                         0                   0.0   \n",
      "449                   0                         0                   0.0   \n",
      "450                   0                         0                   0.0   \n",
      "451                   0                         0                   0.0   \n",
      "452                   0                         0                   0.0   \n",
      "453                   0                         0                   0.0   \n",
      "454                   0                         0                   0.0   \n",
      "455                   0                         0                   0.0   \n",
      "456                   0                         0                   0.0   \n",
      "457                   0                       530                 438.0   \n",
      "458                   0                         0                   0.0   \n",
      "459                   0                         0                   0.0   \n",
      "460                   0                         0                   0.0   \n",
      "461                   0                         0                   0.0   \n",
      "462                   0                         0                   0.0   \n",
      "463                   0                         0                   0.0   \n",
      "464                   0                         0                   0.0   \n",
      "465                   0                         0                   0.0   \n",
      "466                   0                         0                   0.0   \n",
      "467                   0                         0                   0.0   \n",
      "468                   0                         0                   0.0   \n",
      "469                   0                         0                   0.0   \n",
      "470                   0                         0                   0.0   \n",
      "471                   0                         0                   0.0   \n",
      "472                   0                         0                   0.0   \n",
      "473                   0                         0                   0.0   \n",
      "474                   0                       918                 781.0   \n",
      "475                   0                         0                   0.0   \n",
      "476                   0                         0                   0.0   \n",
      "477                   0                         0                   0.0   \n",
      "...                 ...                       ...                   ...   \n",
      "3045                  0                         0                   0.0   \n",
      "3046                  0                         0                   0.0   \n",
      "3047                  0                         0                   0.0   \n",
      "3048                  0                         0                   0.0   \n",
      "3049                  0                         0                   0.0   \n",
      "3050                  0                         0                   0.0   \n",
      "3051                  0                         0                   0.0   \n",
      "3052                  0                         0                   0.0   \n",
      "3053                  0                         0                   0.0   \n",
      "3054                  0                         0                   0.0   \n",
      "3055                  0                         0                   0.0   \n",
      "3056                  0                       274                 170.0   \n",
      "3057                  0                         0                   0.0   \n",
      "3058                  0                         0                   0.0   \n",
      "3059                  0                         0                   0.0   \n",
      "3060                  0                         0                   0.0   \n",
      "3061                  0                         0                   0.0   \n",
      "3062                  0                         0                   0.0   \n",
      "3063                  0                         0                   0.0   \n",
      "3064                  0                         0                   0.0   \n",
      "3065                  0                         0                   0.0   \n",
      "3066                  0                         0                   0.0   \n",
      "3067                  0                         0                   0.0   \n",
      "3068                  0                         0                   0.0   \n",
      "3069                  0                       754                 585.0   \n",
      "3070                  0                       754                 585.0   \n",
      "3071                  0                       754                 585.0   \n",
      "3072                  0                       754                 585.0   \n",
      "3073                  1                       754                 585.0   \n",
      "3074                  1                       754                 585.0   \n",
      "\n",
      "      6-month_chbk_freq  isFradulent  \n",
      "448                   0            0  \n",
      "449                   0            0  \n",
      "450                   0            0  \n",
      "451                   0            0  \n",
      "452                   0            0  \n",
      "453                   0            0  \n",
      "454                   0            0  \n",
      "455                   0            0  \n",
      "456                   0            0  \n",
      "457                   1            0  \n",
      "458                   0            0  \n",
      "459                   0            0  \n",
      "460                   0            0  \n",
      "461                   0            0  \n",
      "462                   0            0  \n",
      "463                   0            0  \n",
      "464                   0            0  \n",
      "465                   0            0  \n",
      "466                   0            0  \n",
      "467                   0            0  \n",
      "468                   0            0  \n",
      "469                   0            0  \n",
      "470                   0            0  \n",
      "471                   0            0  \n",
      "472                   0            0  \n",
      "473                   0            0  \n",
      "474                   2            0  \n",
      "475                   0            0  \n",
      "476                   0            0  \n",
      "477                   0            0  \n",
      "...                 ...          ...  \n",
      "3045                  0            0  \n",
      "3046                  0            0  \n",
      "3047                  0            0  \n",
      "3048                  0            0  \n",
      "3049                  0            0  \n",
      "3050                  0            0  \n",
      "3051                  0            0  \n",
      "3052                  0            0  \n",
      "3053                  0            0  \n",
      "3054                  0            0  \n",
      "3055                  0            0  \n",
      "3056                  2            0  \n",
      "3057                  0            0  \n",
      "3058                  0            0  \n",
      "3059                  0            0  \n",
      "3060                  0            0  \n",
      "3061                  0            0  \n",
      "3062                  0            0  \n",
      "3063                  0            0  \n",
      "3064                  0            0  \n",
      "3065                  0            0  \n",
      "3066                  0            0  \n",
      "3067                  0            0  \n",
      "3068                  0            0  \n",
      "3069                  7            0  \n",
      "3070                  7            0  \n",
      "3071                  7            0  \n",
      "3072                  7            0  \n",
      "3073                  7            0  \n",
      "3074                  7            0  \n",
      "\n",
      "[2627 rows x 11 columns]\n"
     ]
    }
   ],
   "source": [
    "fraud=df[df['isFradulent']==1]\n",
    "valid=df[df['isFradulent']==0]\n",
    "print(fraud,valid)\n"
   ]
  },
  {
   "cell_type": "code",
   "execution_count": 14,
   "metadata": {},
   "outputs": [],
   "source": [
    "X= df.drop(\"isFradulent\",axis=1)\n",
    "y= df[\"isFradulent\"]\n"
   ]
  },
  {
   "cell_type": "code",
   "execution_count": 15,
   "metadata": {},
   "outputs": [],
   "source": [
    "outlier_fraction=len(fraud)/float(len(valid))"
   ]
  },
  {
   "cell_type": "code",
   "execution_count": 16,
   "metadata": {},
   "outputs": [
    {
     "name": "stdout",
     "output_type": "stream",
     "text": [
      "0.1705367339170156\n",
      "Fraud cases: {} 448\n",
      "Valid cases: {} 2627\n"
     ]
    }
   ],
   "source": [
    "print(outlier_fraction)\n",
    "print('Fraud cases: {}',format(len(fraud)))\n",
    "print('Valid cases: {}',format(len(valid)))\n"
   ]
  },
  {
   "cell_type": "markdown",
   "metadata": {},
   "source": [
    "# Splitting the Datasets into training and test set"
   ]
  },
  {
   "cell_type": "code",
   "execution_count": 17,
   "metadata": {},
   "outputs": [],
   "source": [
    "from sklearn.model_selection import train_test_split\n",
    "\n",
    "x_train,x_test,y_train,y_test=train_test_split(X,y,test_size=0.23,random_state=1)"
   ]
  },
  {
   "cell_type": "code",
   "execution_count": 18,
   "metadata": {},
   "outputs": [
    {
     "name": "stdout",
     "output_type": "stream",
     "text": [
      "(2367, 10)\n"
     ]
    }
   ],
   "source": [
    "print(x_train.shape)"
   ]
  },
  {
   "cell_type": "code",
   "execution_count": 19,
   "metadata": {},
   "outputs": [
    {
     "name": "stdout",
     "output_type": "stream",
     "text": [
      "(708, 10)\n"
     ]
    }
   ],
   "source": [
    "print(x_test.shape)"
   ]
  },
  {
   "cell_type": "code",
   "execution_count": 20,
   "metadata": {},
   "outputs": [
    {
     "name": "stdout",
     "output_type": "stream",
     "text": [
      "(2367,)\n"
     ]
    }
   ],
   "source": [
    "print(y_train.shape)"
   ]
  },
  {
   "cell_type": "code",
   "execution_count": 21,
   "metadata": {},
   "outputs": [
    {
     "name": "stdout",
     "output_type": "stream",
     "text": [
      "(708,)\n"
     ]
    }
   ],
   "source": [
    "print(y_test.shape)"
   ]
  },
  {
   "cell_type": "markdown",
   "metadata": {},
   "source": [
    "# Training the Data using Logistic Regression"
   ]
  },
  {
   "cell_type": "code",
   "execution_count": 22,
   "metadata": {},
   "outputs": [
    {
     "name": "stderr",
     "output_type": "stream",
     "text": [
      "C:\\Users\\vishal sharma\\Anaconda3\\lib\\site-packages\\sklearn\\linear_model\\logistic.py:433: FutureWarning: Default solver will be changed to 'lbfgs' in 0.22. Specify a solver to silence this warning.\n",
      "  FutureWarning)\n"
     ]
    }
   ],
   "source": [
    "from sklearn.linear_model import LogisticRegression\n",
    "logisticReg=LogisticRegression()\n",
    "logisticReg.fit(x_train,y_train)\n",
    "prediction=logisticReg.predict(x_test)\n"
   ]
  },
  {
   "cell_type": "markdown",
   "metadata": {},
   "source": [
    "# Testing Data and calculating accuracy"
   ]
  },
  {
   "cell_type": "code",
   "execution_count": 23,
   "metadata": {},
   "outputs": [
    {
     "data": {
      "text/plain": [
       "0.8516949152542372"
      ]
     },
     "execution_count": 23,
     "metadata": {},
     "output_type": "execute_result"
    }
   ],
   "source": [
    "from sklearn.metrics import accuracy_score\n",
    "accuracy_score(y_test,prediction)"
   ]
  },
  {
   "cell_type": "code",
   "execution_count": 24,
   "metadata": {},
   "outputs": [
    {
     "data": {
      "text/plain": [
       "array([[603,   0],\n",
       "       [105,   0]], dtype=int64)"
      ]
     },
     "execution_count": 24,
     "metadata": {},
     "output_type": "execute_result"
    }
   ],
   "source": [
    "from sklearn.metrics import confusion_matrix\n",
    "confusion_matrix(y_test,prediction)\n"
   ]
  },
  {
   "cell_type": "code",
   "execution_count": 25,
   "metadata": {},
   "outputs": [
    {
     "name": "stdout",
     "output_type": "stream",
     "text": [
      "Valid Transaction\n"
     ]
    }
   ],
   "source": [
    "xnew=[[4538998799,806.7868534,9681.442241,0,0,0,0,0,0,0]]\n",
    "result=logisticReg.predict(xnew)\n",
    "if str(result) == \"[0]\":\n",
    "    print(\"Valid Transaction\")\n",
    "else:\n",
    "    print(\"Fraudulent transaction\")"
   ]
  },
  {
   "cell_type": "markdown",
   "metadata": {},
   "source": [
    "# Training the Data using Decision Tree"
   ]
  },
  {
   "cell_type": "code",
   "execution_count": 26,
   "metadata": {},
   "outputs": [],
   "source": [
    "from sklearn.tree import DecisionTreeClassifier\n",
    "clf_entropy=DecisionTreeClassifier(criterion=\"entropy\",random_state=100,max_depth=3,min_samples_leaf=5)\n",
    "clf_entropy.fit(x_train,y_train)\n",
    "y_pred_en=clf_entropy.predict(x_test)"
   ]
  },
  {
   "cell_type": "markdown",
   "metadata": {},
   "source": [
    "# Testing Data and calculating accuracy"
   ]
  },
  {
   "cell_type": "code",
   "execution_count": 27,
   "metadata": {},
   "outputs": [
    {
     "data": {
      "text/plain": [
       "0.963276836158192"
      ]
     },
     "execution_count": 27,
     "metadata": {},
     "output_type": "execute_result"
    }
   ],
   "source": [
    "accuracy_score(y_test,y_pred_en)"
   ]
  },
  {
   "cell_type": "code",
   "execution_count": 28,
   "metadata": {},
   "outputs": [
    {
     "data": {
      "text/plain": [
       "array([[598,   5],\n",
       "       [ 21,  84]], dtype=int64)"
      ]
     },
     "execution_count": 28,
     "metadata": {},
     "output_type": "execute_result"
    }
   ],
   "source": [
    "confusion_matrix(y_test,y_pred_en)\n"
   ]
  },
  {
   "cell_type": "code",
   "execution_count": 29,
   "metadata": {},
   "outputs": [
    {
     "name": "stdout",
     "output_type": "stream",
     "text": [
      "Valid Transaction\n"
     ]
    }
   ],
   "source": [
    "xnewt=[[4538998799,806.7868534,9681.442241,0,0,0,0,0,0,0]]\n",
    "resultt=logisticReg.predict(xnew)\n",
    "if str(resultt) == \"[0]\":\n",
    "    print(\"Valid Transaction\")\n",
    "else:\n",
    "    print(\"Fraudulent transaction\")"
   ]
  },
  {
   "cell_type": "markdown",
   "metadata": {},
   "source": [
    "# Training the Data using K-Nearest Neighbours"
   ]
  },
  {
   "cell_type": "code",
   "execution_count": 30,
   "metadata": {},
   "outputs": [
    {
     "data": {
      "text/plain": [
       "KNeighborsClassifier(algorithm='auto', leaf_size=30, metric='euclidean',\n",
       "           metric_params=None, n_jobs=None, n_neighbors=11, p=2,\n",
       "           weights='uniform')"
      ]
     },
     "execution_count": 30,
     "metadata": {},
     "output_type": "execute_result"
    }
   ],
   "source": [
    "from sklearn.neighbors import KNeighborsClassifier\n",
    "KNN = KNeighborsClassifier(n_neighbors=11,p=2,metric='euclidean')\n",
    "KNN.fit(x_train,y_train)"
   ]
  },
  {
   "cell_type": "markdown",
   "metadata": {},
   "source": [
    "# Testing Data and calculating accuracy"
   ]
  },
  {
   "cell_type": "code",
   "execution_count": 31,
   "metadata": {},
   "outputs": [
    {
     "data": {
      "text/plain": [
       "0.865819209039548"
      ]
     },
     "execution_count": 31,
     "metadata": {},
     "output_type": "execute_result"
    }
   ],
   "source": [
    "y_pred_enk=KNN.predict(x_test)\n",
    "accuracy_score(y_test,y_pred_enk)"
   ]
  },
  {
   "cell_type": "code",
   "execution_count": 32,
   "metadata": {},
   "outputs": [
    {
     "data": {
      "text/plain": [
       "array([[600,   3],\n",
       "       [ 92,  13]], dtype=int64)"
      ]
     },
     "execution_count": 32,
     "metadata": {},
     "output_type": "execute_result"
    }
   ],
   "source": [
    "confusion_matrix(y_test,y_pred_enk)"
   ]
  },
  {
   "cell_type": "code",
   "execution_count": 33,
   "metadata": {},
   "outputs": [
    {
     "name": "stdout",
     "output_type": "stream",
     "text": [
      "Valid Transaction\n"
     ]
    }
   ],
   "source": [
    "xnewk=[[4538998799,806.7868534,9681.442241,0,0,0,0,0,0,0]]\n",
    "resultk=logisticReg.predict(xnew)\n",
    "if str(resultk) == \"[0]\":\n",
    "    print(\"Valid Transaction\")\n",
    "else:\n",
    "    print(\"Fraudulent transaction\")"
   ]
  }
 ],
 "metadata": {
  "kernelspec": {
   "display_name": "Python 3",
   "language": "python",
   "name": "python3"
  },
  "language_info": {
   "codemirror_mode": {
    "name": "ipython",
    "version": 3
   },
   "file_extension": ".py",
   "mimetype": "text/x-python",
   "name": "python",
   "nbconvert_exporter": "python",
   "pygments_lexer": "ipython3",
   "version": "3.6.7"
  }
 },
 "nbformat": 4,
 "nbformat_minor": 2
}
